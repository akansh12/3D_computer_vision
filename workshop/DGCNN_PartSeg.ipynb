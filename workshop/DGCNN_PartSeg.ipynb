{
  "nbformat": 4,
  "nbformat_minor": 0,
  "metadata": {
    "colab": {
      "name": "DGCNN_PartSeg",
      "provenance": [],
      "collapsed_sections": [],
      "include_colab_link": true
    },
    "kernelspec": {
      "name": "python3",
      "display_name": "Python 3"
    },
    "language_info": {
      "name": "python"
    },
    "widgets": {
      "application/vnd.jupyter.widget-state+json": {
        "ffa2b686315d45a09a50c43fa492b0b8": {
          "model_module": "@jupyter-widgets/controls",
          "model_name": "VBoxModel",
          "model_module_version": "1.5.0",
          "state": {
            "_dom_classes": [],
            "_model_module": "@jupyter-widgets/controls",
            "_model_module_version": "1.5.0",
            "_model_name": "VBoxModel",
            "_view_count": null,
            "_view_module": "@jupyter-widgets/controls",
            "_view_module_version": "1.5.0",
            "_view_name": "VBoxView",
            "box_style": "",
            "children": [
              "IPY_MODEL_702c615210d54d3a84cc9a126a95e360"
            ],
            "layout": "IPY_MODEL_e4dee926b58a49458812f95f9377a6e1"
          }
        },
        "702c615210d54d3a84cc9a126a95e360": {
          "model_module": "ipyvolume",
          "model_name": "FigureModel",
          "model_module_version": "~0.5.2",
          "state": {
            "_dom_classes": [],
            "_model_module": "ipyvolume",
            "_model_module_version": "~0.5.2",
            "_model_name": "FigureModel",
            "_view_count": null,
            "_view_module": "ipyvolume",
            "_view_module_version": "~0.5.2",
            "_view_name": "FigureView",
            "ambient_coefficient": 0.5,
            "animation": 1000,
            "animation_exponent": 1,
            "camera": "IPY_MODEL_5203497631fc4a35b7a5bc8c2532e0e9",
            "camera_center": [
              0,
              0,
              0
            ],
            "camera_control": "trackball",
            "camera_fov": 45,
            "capture_fps": null,
            "cube_resolution": 512,
            "diffuse_coefficient": 0.8,
            "displayscale": 1,
            "downscale": 1,
            "eye_separation": 6.4,
            "height": 500,
            "layout": "IPY_MODEL_850b43ff7a71474b9db3578af2c836f9",
            "matrix_projection": [
              2.9448154572796907,
              0,
              0,
              0,
              0,
              2.3558523658237527,
              0,
              0,
              0,
              0,
              -1.00010000500025,
              -1,
              0,
              0,
              -0.200010000500025,
              0
            ],
            "matrix_world": [
              0.09049035907107983,
              -0.5387888108429517,
              0.048648048977507616,
              0,
              -0.06581311262039033,
              -0.08848572208771328,
              -0.8575814583418022,
              0,
              0.5840259198388575,
              0.09317312569621361,
              -0.054433377130426557,
              0,
              -0.07304903902212449,
              0.07293225713874206,
              -1.39422482984486,
              1
            ],
            "meshes": [],
            "mouse_mode": "normal",
            "panorama_mode": "no",
            "render_continuous": false,
            "scatters": [
              "IPY_MODEL_0d5354263f1245e5af49fedc3524e591"
            ],
            "scene": "IPY_MODEL_d49b39e68fba417aab70da0433b5edd8",
            "selection_mode": "replace",
            "selector": "lasso",
            "show": "Volume",
            "specular_coefficient": 0.5,
            "specular_exponent": 5,
            "stereo": false,
            "style": {
              "axes": {
                "visible": true,
                "label": {
                  "color": "black"
                },
                "ticklabel": {
                  "color": "black"
                },
                "color": "black"
              },
              "box": {
                "visible": true
              },
              "background-color": "white"
            },
            "volumes": [],
            "width": 400,
            "xlabel": "x",
            "xlim": [
              -0.8181354403495789,
              1.0050299167633057
            ],
            "ylabel": "y",
            "ylim": [
              -0.15654705464839935,
              1
            ],
            "zlabel": "z",
            "zlim": [
              -0.6837534308433533,
              1
            ]
          }
        },
        "e4dee926b58a49458812f95f9377a6e1": {
          "model_module": "@jupyter-widgets/base",
          "model_name": "LayoutModel",
          "model_module_version": "1.2.0",
          "state": {
            "_model_module": "@jupyter-widgets/base",
            "_model_module_version": "1.2.0",
            "_model_name": "LayoutModel",
            "_view_count": null,
            "_view_module": "@jupyter-widgets/base",
            "_view_module_version": "1.2.0",
            "_view_name": "LayoutView",
            "align_content": null,
            "align_items": null,
            "align_self": null,
            "border": null,
            "bottom": null,
            "display": null,
            "flex": null,
            "flex_flow": null,
            "grid_area": null,
            "grid_auto_columns": null,
            "grid_auto_flow": null,
            "grid_auto_rows": null,
            "grid_column": null,
            "grid_gap": null,
            "grid_row": null,
            "grid_template_areas": null,
            "grid_template_columns": null,
            "grid_template_rows": null,
            "height": null,
            "justify_content": null,
            "justify_items": null,
            "left": null,
            "margin": null,
            "max_height": null,
            "max_width": null,
            "min_height": null,
            "min_width": null,
            "object_fit": null,
            "object_position": null,
            "order": null,
            "overflow": null,
            "overflow_x": null,
            "overflow_y": null,
            "padding": null,
            "right": null,
            "top": null,
            "visibility": null,
            "width": null
          }
        },
        "5203497631fc4a35b7a5bc8c2532e0e9": {
          "model_module": "jupyter-threejs",
          "model_name": "PerspectiveCameraModel",
          "model_module_version": "^2.1.0",
          "state": {
            "_model_module": "jupyter-threejs",
            "_model_module_version": "^2.1.0",
            "_model_name": "PerspectiveCameraModel",
            "_view_count": null,
            "_view_module": null,
            "_view_module_version": "",
            "_view_name": null,
            "aspect": 0.8,
            "castShadow": false,
            "children": [],
            "far": 2000,
            "focus": 10,
            "fov": 46,
            "frustumCulled": true,
            "matrix": [
              0.16497888781109848,
              -0.07611596155835582,
              0.9833556462301214,
              0,
              -0.9823010947289164,
              -0.10233790125898157,
              0.15688057005339856,
              0,
              0.08869343758692277,
              -0.9918333097662901,
              -0.09165238549574584,
              0,
              0.15609608571433098,
              -1.7455778189212368,
              -0.16130368842955112,
              1
            ],
            "matrixAutoUpdate": true,
            "matrixWorld": [
              0.16497888781109848,
              -0.07611596155835582,
              0.9833556462301214,
              0,
              -0.9823010947289164,
              -0.10233790125898157,
              0.15688057005339856,
              0,
              0.08869343758692277,
              -0.9918333097662901,
              -0.09165238549574584,
              0,
              0.15609608571433098,
              -1.7455778189212368,
              -0.16130368842955112,
              1
            ],
            "matrixWorldInverse": [
              0.1649788878110984,
              -0.9823010947289164,
              0.08869343758692276,
              0,
              -0.07611596155835583,
              -0.10233790125898161,
              -0.9918333097662904,
              0,
              0.9833556462301216,
              0.15688057005339867,
              -0.09165238549574585,
              0,
              -3.053113317719181e-16,
              -9.714451465470122e-17,
              -1.7599507918649704,
              1
            ],
            "matrixWorldNeedsUpdate": true,
            "modelViewMatrix": [
              1,
              0,
              0,
              0,
              0,
              1,
              0,
              0,
              0,
              0,
              1,
              0,
              0,
              0,
              0,
              1
            ],
            "name": "",
            "near": 0.1,
            "normalMatrix": [
              1,
              0,
              0,
              0,
              1,
              0,
              0,
              0,
              1
            ],
            "position": [
              0.15609608571433098,
              -1.7455778189212368,
              -0.16130368842955112
            ],
            "projectionMatrix": [
              2.9448154572796907,
              0,
              0,
              0,
              0,
              2.3558523658237527,
              0,
              0,
              0,
              0,
              -1.00010000500025,
              -1,
              0,
              0,
              -0.200010000500025,
              0
            ],
            "quaternion": [
              0.5828741662155361,
              -0.45396464521636093,
              0.45981154507910554,
              0.4926937692564142
            ],
            "receiveShadow": false,
            "renderOrder": 0,
            "rotation": [
              1.6629416882589034,
              0.08881013603609349,
              1.4043978562905708,
              "XYZ"
            ],
            "scale": [
              1,
              1,
              1
            ],
            "type": "PerspectiveCamera",
            "up": [
              -0.9823010947289164,
              -0.10233790125898151,
              0.15688057005339856
            ],
            "visible": true,
            "zoom": 1
          }
        },
        "850b43ff7a71474b9db3578af2c836f9": {
          "model_module": "@jupyter-widgets/base",
          "model_name": "LayoutModel",
          "model_module_version": "1.2.0",
          "state": {
            "_model_module": "@jupyter-widgets/base",
            "_model_module_version": "1.2.0",
            "_model_name": "LayoutModel",
            "_view_count": null,
            "_view_module": "@jupyter-widgets/base",
            "_view_module_version": "1.2.0",
            "_view_name": "LayoutView",
            "align_content": null,
            "align_items": null,
            "align_self": null,
            "border": null,
            "bottom": null,
            "display": null,
            "flex": null,
            "flex_flow": null,
            "grid_area": null,
            "grid_auto_columns": null,
            "grid_auto_flow": null,
            "grid_auto_rows": null,
            "grid_column": null,
            "grid_gap": null,
            "grid_row": null,
            "grid_template_areas": null,
            "grid_template_columns": null,
            "grid_template_rows": null,
            "height": null,
            "justify_content": null,
            "justify_items": null,
            "left": null,
            "margin": null,
            "max_height": null,
            "max_width": null,
            "min_height": null,
            "min_width": null,
            "object_fit": null,
            "object_position": null,
            "order": null,
            "overflow": null,
            "overflow_x": null,
            "overflow_y": null,
            "padding": null,
            "right": null,
            "top": null,
            "visibility": null,
            "width": null
          }
        },
        "0d5354263f1245e5af49fedc3524e591": {
          "model_module": "ipyvolume",
          "model_name": "ScatterModel",
          "model_module_version": "~0.5.2",
          "state": {
            "_model_module": "ipyvolume",
            "_model_module_version": "~0.5.2",
            "_model_name": "ScatterModel",
            "_view_count": null,
            "_view_module": "ipyvolume",
            "_view_module_version": "~0.5.2",
            "_view_name": "ScatterView",
            "color": [
              {
                "dtype": "float32",
                "shape": [
                  2518,
                  4
                ]
              }
            ],
            "color_selected": "white",
            "connected": false,
            "geo": "sphere",
            "line_material": "IPY_MODEL_3ab52607827745b9acb5a6499c41ca9a",
            "material": "IPY_MODEL_3170c1fc7c70434e9234b1b136207a73",
            "selected": null,
            "sequence_index": 0,
            "size": 2,
            "size_selected": 2.6,
            "texture": null,
            "visible": true,
            "vx": null,
            "vy": null,
            "vz": null,
            "x": [
              {
                "dtype": "float32",
                "shape": [
                  2518
                ]
              }
            ],
            "y": [
              {
                "dtype": "float32",
                "shape": [
                  2518
                ]
              }
            ],
            "z": [
              {
                "dtype": "float32",
                "shape": [
                  2518
                ]
              }
            ]
          }
        },
        "d49b39e68fba417aab70da0433b5edd8": {
          "model_module": "jupyter-threejs",
          "model_name": "SceneModel",
          "model_module_version": "^2.1.0",
          "state": {
            "_model_module": "jupyter-threejs",
            "_model_module_version": "^2.1.0",
            "_model_name": "SceneModel",
            "_view_count": null,
            "_view_module": null,
            "_view_module_version": "",
            "_view_name": null,
            "autoUpdate": true,
            "background": null,
            "castShadow": false,
            "children": [],
            "fog": null,
            "frustumCulled": true,
            "matrix": [
              1,
              0,
              0,
              0,
              0,
              1,
              0,
              0,
              0,
              0,
              1,
              0,
              0,
              0,
              0,
              1
            ],
            "matrixAutoUpdate": true,
            "matrixWorld": [
              1,
              0,
              0,
              0,
              0,
              1,
              0,
              0,
              0,
              0,
              1,
              0,
              0,
              0,
              0,
              1
            ],
            "matrixWorldNeedsUpdate": false,
            "modelViewMatrix": [
              1,
              0,
              0,
              0,
              0,
              1,
              0,
              0,
              0,
              0,
              1,
              0,
              0,
              0,
              0,
              1
            ],
            "name": "",
            "normalMatrix": [
              1,
              0,
              0,
              0,
              1,
              0,
              0,
              0,
              1
            ],
            "overrideMaterial": null,
            "position": [
              0,
              0,
              0
            ],
            "quaternion": [
              0,
              0,
              0,
              1
            ],
            "receiveShadow": false,
            "renderOrder": 0,
            "rotation": [
              0,
              0,
              0,
              "XYZ"
            ],
            "scale": [
              1,
              1,
              1
            ],
            "type": "Scene",
            "up": [
              0,
              1,
              0
            ],
            "visible": true
          }
        },
        "3ab52607827745b9acb5a6499c41ca9a": {
          "model_module": "jupyter-threejs",
          "model_name": "ShaderMaterialModel",
          "model_module_version": "^2.1.0",
          "state": {
            "_model_module": "jupyter-threejs",
            "_model_module_version": "^2.1.0",
            "_model_name": "ShaderMaterialModel",
            "_view_count": null,
            "_view_module": null,
            "_view_module_version": "",
            "_view_name": null,
            "alphaTest": 0,
            "blendDst": "OneMinusSrcAlphaFactor",
            "blendDstAlpha": 0,
            "blendEquation": "AddEquation",
            "blendEquationAlpha": 0,
            "blendSrc": "SrcAlphaFactor",
            "blendSrcAlpha": 0,
            "blending": "NormalBlending",
            "clipIntersection": false,
            "clipShadows": false,
            "clipping": false,
            "clippingPlanes": [],
            "colorWrite": true,
            "defines": null,
            "depthFunc": "LessEqualDepth",
            "depthTest": true,
            "depthWrite": true,
            "dithering": false,
            "extensions": {},
            "flatShading": false,
            "fog": false,
            "fragmentShader": "",
            "lights": false,
            "linewidth": 1,
            "morphNormals": false,
            "morphTargets": false,
            "name": "",
            "opacity": 1,
            "overdraw": 0,
            "polygonOffset": false,
            "polygonOffsetFactor": 0,
            "polygonOffsetUnits": 0,
            "precision": null,
            "premultipliedAlpha": false,
            "shadowSide": null,
            "side": "FrontSide",
            "skinning": false,
            "transparent": false,
            "type": "ShaderMaterial",
            "uniforms": {},
            "uniformsNeedUpdate": false,
            "vertexColors": "NoColors",
            "vertexShader": "",
            "visible": true,
            "wireframe": false,
            "wireframeLinewidth": 1
          }
        },
        "3170c1fc7c70434e9234b1b136207a73": {
          "model_module": "jupyter-threejs",
          "model_name": "ShaderMaterialModel",
          "model_module_version": "^2.1.0",
          "state": {
            "_model_module": "jupyter-threejs",
            "_model_module_version": "^2.1.0",
            "_model_name": "ShaderMaterialModel",
            "_view_count": null,
            "_view_module": null,
            "_view_module_version": "",
            "_view_name": null,
            "alphaTest": 0,
            "blendDst": "OneMinusSrcAlphaFactor",
            "blendDstAlpha": 0,
            "blendEquation": "AddEquation",
            "blendEquationAlpha": 0,
            "blendSrc": "SrcAlphaFactor",
            "blendSrcAlpha": 0,
            "blending": "NormalBlending",
            "clipIntersection": false,
            "clipShadows": false,
            "clipping": false,
            "clippingPlanes": [],
            "colorWrite": true,
            "defines": null,
            "depthFunc": "LessEqualDepth",
            "depthTest": true,
            "depthWrite": true,
            "dithering": false,
            "extensions": {},
            "flatShading": false,
            "fog": false,
            "fragmentShader": "",
            "lights": false,
            "linewidth": 1,
            "morphNormals": false,
            "morphTargets": false,
            "name": "",
            "opacity": 1,
            "overdraw": 0,
            "polygonOffset": false,
            "polygonOffsetFactor": 0,
            "polygonOffsetUnits": 0,
            "precision": null,
            "premultipliedAlpha": false,
            "shadowSide": null,
            "side": "FrontSide",
            "skinning": false,
            "transparent": false,
            "type": "ShaderMaterial",
            "uniforms": {},
            "uniformsNeedUpdate": false,
            "vertexColors": "NoColors",
            "vertexShader": "",
            "visible": true,
            "wireframe": false,
            "wireframeLinewidth": 1
          }
        }
      }
    }
  },
  "cells": [
    {
      "cell_type": "markdown",
      "metadata": {
        "id": "view-in-github",
        "colab_type": "text"
      },
      "source": [
        "<a href=\"https://colab.research.google.com/github/akansh12/3D_computer_vision/blob/main/workshop/DGCNN_PartSeg.ipynb\" target=\"_parent\"><img src=\"https://colab.research.google.com/assets/colab-badge.svg\" alt=\"Open In Colab\"/></a>"
      ]
    },
    {
      "cell_type": "code",
      "source": [
        "from google.colab import drive\n",
        "drive.mount('/content/drive')"
      ],
      "metadata": {
        "colab": {
          "base_uri": "https://localhost:8080/"
        },
        "id": "Wp2Rlex7GU2T",
        "outputId": "84533542-2e1b-45fb-fe3a-9783849d798f"
      },
      "execution_count": 1,
      "outputs": [
        {
          "output_type": "stream",
          "name": "stdout",
          "text": [
            "Mounted at /content/drive\n"
          ]
        }
      ]
    },
    {
      "cell_type": "code",
      "execution_count": 2,
      "metadata": {
        "id": "tgBoY7eQELqM",
        "outputId": "f41e7978-a3be-4961-f741-8a19115d13d9",
        "colab": {
          "base_uri": "https://localhost:8080/"
        }
      },
      "outputs": [
        {
          "output_type": "stream",
          "name": "stdout",
          "text": [
            "1.11.0+cu113\n",
            "\u001b[K     |████████████████████████████████| 7.9 MB 8.6 MB/s \n",
            "\u001b[K     |████████████████████████████████| 3.5 MB 8.5 MB/s \n",
            "\u001b[K     |████████████████████████████████| 2.5 MB 6.4 MB/s \n",
            "\u001b[?25h  Building wheel for torch-geometric (setup.py) ... \u001b[?25l\u001b[?25hdone\n",
            "Looking in indexes: https://pypi.org/simple, https://us-python.pkg.dev/colab-wheels/public/simple/\n",
            "Collecting ipyvolume\n",
            "  Downloading ipyvolume-0.5.2-py2.py3-none-any.whl (2.9 MB)\n",
            "\u001b[K     |████████████████████████████████| 2.9 MB 7.9 MB/s \n",
            "\u001b[?25hCollecting pythreejs>=1.0.0\n",
            "  Downloading pythreejs-2.3.0-py2.py3-none-any.whl (3.4 MB)\n",
            "\u001b[K     |████████████████████████████████| 3.4 MB 51.2 MB/s \n",
            "\u001b[?25hRequirement already satisfied: traitlets in /usr/local/lib/python3.7/dist-packages (from ipyvolume) (5.1.1)\n",
            "Collecting ipywebrtc\n",
            "  Downloading ipywebrtc-0.6.0-py2.py3-none-any.whl (260 kB)\n",
            "\u001b[K     |████████████████████████████████| 260 kB 56.9 MB/s \n",
            "\u001b[?25hCollecting traittypes\n",
            "  Downloading traittypes-0.2.1-py2.py3-none-any.whl (8.6 kB)\n",
            "Requirement already satisfied: ipywidgets>=7.5 in /usr/local/lib/python3.7/dist-packages (from ipyvolume) (7.7.0)\n",
            "Requirement already satisfied: numpy in /usr/local/lib/python3.7/dist-packages (from ipyvolume) (1.21.6)\n",
            "Requirement already satisfied: requests in /usr/local/lib/python3.7/dist-packages (from ipyvolume) (2.23.0)\n",
            "Requirement already satisfied: Pillow in /usr/local/lib/python3.7/dist-packages (from ipyvolume) (7.1.2)\n",
            "Requirement already satisfied: widgetsnbextension~=3.6.0 in /usr/local/lib/python3.7/dist-packages (from ipywidgets>=7.5->ipyvolume) (3.6.0)\n",
            "Requirement already satisfied: ipython-genutils~=0.2.0 in /usr/local/lib/python3.7/dist-packages (from ipywidgets>=7.5->ipyvolume) (0.2.0)\n",
            "Requirement already satisfied: nbformat>=4.2.0 in /usr/local/lib/python3.7/dist-packages (from ipywidgets>=7.5->ipyvolume) (5.4.0)\n",
            "Requirement already satisfied: ipykernel>=4.5.1 in /usr/local/lib/python3.7/dist-packages (from ipywidgets>=7.5->ipyvolume) (4.10.1)\n",
            "Requirement already satisfied: ipython>=4.0.0 in /usr/local/lib/python3.7/dist-packages (from ipywidgets>=7.5->ipyvolume) (5.5.0)\n",
            "Requirement already satisfied: jupyterlab-widgets>=1.0.0 in /usr/local/lib/python3.7/dist-packages (from ipywidgets>=7.5->ipyvolume) (1.1.0)\n",
            "Requirement already satisfied: tornado>=4.0 in /usr/local/lib/python3.7/dist-packages (from ipykernel>=4.5.1->ipywidgets>=7.5->ipyvolume) (5.1.1)\n",
            "Requirement already satisfied: jupyter-client in /usr/local/lib/python3.7/dist-packages (from ipykernel>=4.5.1->ipywidgets>=7.5->ipyvolume) (5.3.5)\n",
            "Requirement already satisfied: simplegeneric>0.8 in /usr/local/lib/python3.7/dist-packages (from ipython>=4.0.0->ipywidgets>=7.5->ipyvolume) (0.8.1)\n",
            "Requirement already satisfied: pexpect in /usr/local/lib/python3.7/dist-packages (from ipython>=4.0.0->ipywidgets>=7.5->ipyvolume) (4.8.0)\n",
            "Requirement already satisfied: decorator in /usr/local/lib/python3.7/dist-packages (from ipython>=4.0.0->ipywidgets>=7.5->ipyvolume) (4.4.2)\n",
            "Requirement already satisfied: prompt-toolkit<2.0.0,>=1.0.4 in /usr/local/lib/python3.7/dist-packages (from ipython>=4.0.0->ipywidgets>=7.5->ipyvolume) (1.0.18)\n",
            "Requirement already satisfied: setuptools>=18.5 in /usr/local/lib/python3.7/dist-packages (from ipython>=4.0.0->ipywidgets>=7.5->ipyvolume) (57.4.0)\n",
            "Requirement already satisfied: pickleshare in /usr/local/lib/python3.7/dist-packages (from ipython>=4.0.0->ipywidgets>=7.5->ipyvolume) (0.7.5)\n",
            "Requirement already satisfied: pygments in /usr/local/lib/python3.7/dist-packages (from ipython>=4.0.0->ipywidgets>=7.5->ipyvolume) (2.6.1)\n",
            "Requirement already satisfied: jsonschema>=2.6 in /usr/local/lib/python3.7/dist-packages (from nbformat>=4.2.0->ipywidgets>=7.5->ipyvolume) (4.3.3)\n",
            "Requirement already satisfied: jupyter-core in /usr/local/lib/python3.7/dist-packages (from nbformat>=4.2.0->ipywidgets>=7.5->ipyvolume) (4.10.0)\n",
            "Requirement already satisfied: fastjsonschema in /usr/local/lib/python3.7/dist-packages (from nbformat>=4.2.0->ipywidgets>=7.5->ipyvolume) (2.15.3)\n",
            "Requirement already satisfied: typing-extensions in /usr/local/lib/python3.7/dist-packages (from jsonschema>=2.6->nbformat>=4.2.0->ipywidgets>=7.5->ipyvolume) (4.2.0)\n",
            "Requirement already satisfied: importlib-metadata in /usr/local/lib/python3.7/dist-packages (from jsonschema>=2.6->nbformat>=4.2.0->ipywidgets>=7.5->ipyvolume) (4.11.3)\n",
            "Requirement already satisfied: pyrsistent!=0.17.0,!=0.17.1,!=0.17.2,>=0.14.0 in /usr/local/lib/python3.7/dist-packages (from jsonschema>=2.6->nbformat>=4.2.0->ipywidgets>=7.5->ipyvolume) (0.18.1)\n",
            "Requirement already satisfied: attrs>=17.4.0 in /usr/local/lib/python3.7/dist-packages (from jsonschema>=2.6->nbformat>=4.2.0->ipywidgets>=7.5->ipyvolume) (21.4.0)\n",
            "Requirement already satisfied: importlib-resources>=1.4.0 in /usr/local/lib/python3.7/dist-packages (from jsonschema>=2.6->nbformat>=4.2.0->ipywidgets>=7.5->ipyvolume) (5.7.1)\n",
            "Requirement already satisfied: zipp>=3.1.0 in /usr/local/lib/python3.7/dist-packages (from importlib-resources>=1.4.0->jsonschema>=2.6->nbformat>=4.2.0->ipywidgets>=7.5->ipyvolume) (3.8.0)\n",
            "Requirement already satisfied: wcwidth in /usr/local/lib/python3.7/dist-packages (from prompt-toolkit<2.0.0,>=1.0.4->ipython>=4.0.0->ipywidgets>=7.5->ipyvolume) (0.2.5)\n",
            "Requirement already satisfied: six>=1.9.0 in /usr/local/lib/python3.7/dist-packages (from prompt-toolkit<2.0.0,>=1.0.4->ipython>=4.0.0->ipywidgets>=7.5->ipyvolume) (1.15.0)\n",
            "Collecting ipydatawidgets>=1.1.1\n",
            "  Downloading ipydatawidgets-4.3.1.post1-py2.py3-none-any.whl (271 kB)\n",
            "\u001b[K     |████████████████████████████████| 271 kB 72.6 MB/s \n",
            "\u001b[?25hRequirement already satisfied: notebook>=4.4.1 in /usr/local/lib/python3.7/dist-packages (from widgetsnbextension~=3.6.0->ipywidgets>=7.5->ipyvolume) (5.3.1)\n",
            "Requirement already satisfied: nbconvert in /usr/local/lib/python3.7/dist-packages (from notebook>=4.4.1->widgetsnbextension~=3.6.0->ipywidgets>=7.5->ipyvolume) (5.6.1)\n",
            "Requirement already satisfied: jinja2 in /usr/local/lib/python3.7/dist-packages (from notebook>=4.4.1->widgetsnbextension~=3.6.0->ipywidgets>=7.5->ipyvolume) (2.11.3)\n",
            "Requirement already satisfied: terminado>=0.8.1 in /usr/local/lib/python3.7/dist-packages (from notebook>=4.4.1->widgetsnbextension~=3.6.0->ipywidgets>=7.5->ipyvolume) (0.13.3)\n",
            "Requirement already satisfied: Send2Trash in /usr/local/lib/python3.7/dist-packages (from notebook>=4.4.1->widgetsnbextension~=3.6.0->ipywidgets>=7.5->ipyvolume) (1.8.0)\n",
            "Requirement already satisfied: pyzmq>=13 in /usr/local/lib/python3.7/dist-packages (from jupyter-client->ipykernel>=4.5.1->ipywidgets>=7.5->ipyvolume) (23.0.0)\n",
            "Requirement already satisfied: python-dateutil>=2.1 in /usr/local/lib/python3.7/dist-packages (from jupyter-client->ipykernel>=4.5.1->ipywidgets>=7.5->ipyvolume) (2.8.2)\n",
            "Requirement already satisfied: ptyprocess in /usr/local/lib/python3.7/dist-packages (from terminado>=0.8.1->notebook>=4.4.1->widgetsnbextension~=3.6.0->ipywidgets>=7.5->ipyvolume) (0.7.0)\n",
            "Requirement already satisfied: MarkupSafe>=0.23 in /usr/local/lib/python3.7/dist-packages (from jinja2->notebook>=4.4.1->widgetsnbextension~=3.6.0->ipywidgets>=7.5->ipyvolume) (2.0.1)\n",
            "Requirement already satisfied: entrypoints>=0.2.2 in /usr/local/lib/python3.7/dist-packages (from nbconvert->notebook>=4.4.1->widgetsnbextension~=3.6.0->ipywidgets>=7.5->ipyvolume) (0.4)\n",
            "Requirement already satisfied: defusedxml in /usr/local/lib/python3.7/dist-packages (from nbconvert->notebook>=4.4.1->widgetsnbextension~=3.6.0->ipywidgets>=7.5->ipyvolume) (0.7.1)\n",
            "Requirement already satisfied: pandocfilters>=1.4.1 in /usr/local/lib/python3.7/dist-packages (from nbconvert->notebook>=4.4.1->widgetsnbextension~=3.6.0->ipywidgets>=7.5->ipyvolume) (1.5.0)\n",
            "Requirement already satisfied: testpath in /usr/local/lib/python3.7/dist-packages (from nbconvert->notebook>=4.4.1->widgetsnbextension~=3.6.0->ipywidgets>=7.5->ipyvolume) (0.6.0)\n",
            "Requirement already satisfied: mistune<2,>=0.8.1 in /usr/local/lib/python3.7/dist-packages (from nbconvert->notebook>=4.4.1->widgetsnbextension~=3.6.0->ipywidgets>=7.5->ipyvolume) (0.8.4)\n",
            "Requirement already satisfied: bleach in /usr/local/lib/python3.7/dist-packages (from nbconvert->notebook>=4.4.1->widgetsnbextension~=3.6.0->ipywidgets>=7.5->ipyvolume) (5.0.0)\n",
            "Requirement already satisfied: webencodings in /usr/local/lib/python3.7/dist-packages (from bleach->nbconvert->notebook>=4.4.1->widgetsnbextension~=3.6.0->ipywidgets>=7.5->ipyvolume) (0.5.1)\n",
            "Requirement already satisfied: certifi>=2017.4.17 in /usr/local/lib/python3.7/dist-packages (from requests->ipyvolume) (2022.5.18.1)\n",
            "Requirement already satisfied: chardet<4,>=3.0.2 in /usr/local/lib/python3.7/dist-packages (from requests->ipyvolume) (3.0.4)\n",
            "Requirement already satisfied: urllib3!=1.25.0,!=1.25.1,<1.26,>=1.21.1 in /usr/local/lib/python3.7/dist-packages (from requests->ipyvolume) (1.24.3)\n",
            "Requirement already satisfied: idna<3,>=2.5 in /usr/local/lib/python3.7/dist-packages (from requests->ipyvolume) (2.10)\n",
            "Installing collected packages: traittypes, ipydatawidgets, pythreejs, ipywebrtc, ipyvolume\n",
            "Successfully installed ipydatawidgets-4.3.1.post1 ipyvolume-0.5.2 ipywebrtc-0.6.0 pythreejs-2.3.0 traittypes-0.2.1\n",
            "Looking in indexes: https://pypi.org/simple, https://us-python.pkg.dev/colab-wheels/public/simple/\n",
            "Collecting torchmetrics\n",
            "  Downloading torchmetrics-0.8.2-py3-none-any.whl (409 kB)\n",
            "\u001b[K     |████████████████████████████████| 409 kB 7.8 MB/s \n",
            "\u001b[?25hRequirement already satisfied: torch>=1.3.1 in /usr/local/lib/python3.7/dist-packages (from torchmetrics) (1.11.0+cu113)\n",
            "Requirement already satisfied: packaging in /usr/local/lib/python3.7/dist-packages (from torchmetrics) (21.3)\n",
            "Requirement already satisfied: numpy>=1.17.2 in /usr/local/lib/python3.7/dist-packages (from torchmetrics) (1.21.6)\n",
            "Collecting pyDeprecate==0.3.*\n",
            "  Downloading pyDeprecate-0.3.2-py3-none-any.whl (10 kB)\n",
            "Requirement already satisfied: typing-extensions in /usr/local/lib/python3.7/dist-packages (from torch>=1.3.1->torchmetrics) (4.2.0)\n",
            "Requirement already satisfied: pyparsing!=3.0.5,>=2.0.2 in /usr/local/lib/python3.7/dist-packages (from packaging->torchmetrics) (3.0.9)\n",
            "Installing collected packages: pyDeprecate, torchmetrics\n",
            "Successfully installed pyDeprecate-0.3.2 torchmetrics-0.8.2\n"
          ]
        }
      ],
      "source": [
        "# Install required packages.\n",
        "import os\n",
        "import torch\n",
        "os.environ['TORCH'] = torch.__version__\n",
        "print(torch.__version__)\n",
        "\n",
        "!pip install -q torch-scatter -f https://data.pyg.org/whl/torch-${TORCH}.html\n",
        "!pip install -q torch-sparse -f https://data.pyg.org/whl/torch-${TORCH}.html\n",
        "!pip install -q torch-cluster -f https://data.pyg.org/whl/torch-${TORCH}.html\n",
        "!pip install -q git+https://github.com/pyg-team/pytorch_geometric.git\n",
        "!pip install ipyvolume\n",
        "!pip install torchmetrics"
      ]
    },
    {
      "cell_type": "code",
      "source": [
        ""
      ],
      "metadata": {
        "id": "H-WoNXriEXVL"
      },
      "execution_count": 2,
      "outputs": []
    },
    {
      "cell_type": "markdown",
      "source": [
        "Setup external visualization tools and import relevant packages"
      ],
      "metadata": {
        "id": "hKOmfx9J-gmE"
      }
    },
    {
      "cell_type": "code",
      "source": [
        "from google.colab import output\n",
        "output.enable_custom_widget_manager()"
      ],
      "metadata": {
        "id": "I2eOHeY789zl"
      },
      "execution_count": 3,
      "outputs": []
    },
    {
      "cell_type": "code",
      "source": [
        "import os.path as osp\n",
        "import numpy as np\n",
        "import ipyvolume as ipv\n",
        "import matplotlib.pyplot as plt\n",
        "import seaborn as sns\n",
        "%matplotlib inline\n",
        "import matplotlib.cm as cm\n",
        "import matplotlib as mpl\n",
        "\n",
        "\n",
        "import torch\n",
        "import torch.nn.functional as F\n",
        "from torch_scatter import scatter\n",
        "from torchmetrics.functional import jaccard_index\n",
        "\n",
        "import torch_geometric.transforms as T\n",
        "from torch_geometric.datasets import ShapeNet\n",
        "from torch_geometric.loader import DataLoader\n",
        "from torch_geometric.nn import MLP, DynamicEdgeConv"
      ],
      "metadata": {
        "id": "xS0a89xyKs0r"
      },
      "execution_count": 4,
      "outputs": []
    },
    {
      "cell_type": "markdown",
      "source": [
        "Get the dataset.\n",
        "\n",
        "> Make sure the google drive is mounted"
      ],
      "metadata": {
        "id": "HRGEVsH_-oQs"
      }
    },
    {
      "cell_type": "code",
      "source": [
        "data_root = \"/content/drive/MyDrive/datasets/\""
      ],
      "metadata": {
        "id": "glo28EYJK0ak"
      },
      "execution_count": 5,
      "outputs": []
    },
    {
      "cell_type": "code",
      "source": [
        "path = osp.join(data_root, 'ShapeNet')\n",
        "category = 'Airplane'  # Pass in `None` to train on all categories.\n",
        "transform = T.Compose([\n",
        "    T.RandomTranslate(0.01),\n",
        "    T.RandomRotate(15, axis=0),\n",
        "    T.RandomRotate(15, axis=1),\n",
        "    T.RandomRotate(15, axis=2)\n",
        "])\n",
        "pre_transform = T.NormalizeScale()\n",
        "train_dataset = ShapeNet(path, category, split='trainval', transform=transform,\n",
        "                         pre_transform=pre_transform)\n",
        "test_dataset = ShapeNet(path, category, split='test',\n",
        "                        pre_transform=pre_transform)\n",
        "train_loader = DataLoader(train_dataset, batch_size=10, shuffle=True,\n",
        "                          num_workers=6)\n",
        "test_loader = DataLoader(test_dataset, batch_size=10, shuffle=False,\n",
        "                         num_workers=6)"
      ],
      "metadata": {
        "id": "rZA6pzc9LDga",
        "colab": {
          "base_uri": "https://localhost:8080/"
        },
        "outputId": "bf107ab3-dbec-4284-90e8-2bf8428df74a"
      },
      "execution_count": 6,
      "outputs": [
        {
          "output_type": "stream",
          "name": "stderr",
          "text": [
            "Downloading https://shapenet.cs.stanford.edu/media/shapenetcore_partanno_segmentation_benchmark_v0_normal.zip\n",
            "Extracting /content/drive/MyDrive/datasets/ShapeNet/shapenetcore_partanno_segmentation_benchmark_v0_normal.zip\n",
            "Processing...\n",
            "Done!\n",
            "/usr/local/lib/python3.7/dist-packages/torch/utils/data/dataloader.py:490: UserWarning: This DataLoader will create 6 worker processes in total. Our suggested max number of worker in current system is 2, which is smaller than what this DataLoader is going to create. Please be aware that excessive worker creation might get DataLoader running slow or even freeze, lower the worker number to avoid potential slowness/freeze if necessary.\n",
            "  cpuset_checked))\n"
          ]
        }
      ]
    },
    {
      "cell_type": "code",
      "source": [
        "meta_colors = [\n",
        "        {\"label\": \"airplane_body\",\"id\": 0,\"color\": [152,223,138]},\n",
        "        {\"label\": \"airplane_wings\",\"id\": 1,\"color\": [174,199,232]},\n",
        "        {\"label\": \"airplane_tail\",\"id\": 2,\"color\": [255,105,180]},\n",
        "        {\"label\": \"airplane_engine\",\"id\": 3,\"color\": [31,119,180]},\n",
        "        {\"label\": \"bag_handle\",\"id\": 4,\"color\": [255,187,120]},\n",
        "        {\"label\": \"bag_body\",\"id\": 5,\"color\": [188,189,34]},\n",
        "        {\"label\": \"cap_peak\",\"id\": 6,\"color\": [140,86,75]},\n",
        "        {\"label\": \"cap_panel\",\"id\": 7,\"color\": [255,152,150]},\n",
        "        {\"label\": \"car_roof\",\"id\": 8,\"color\": [214,39,40]},\n",
        "        {\"label\": \"car_hood\",\"id\": 9,\"color\": [197,176,213]},\n",
        "        {\"label\": \"car_wheels\",\"id\": 10,\"color\": [148,103,189]},\n",
        "        {\"label\": \"car_body\",\"id\": 11,\"color\": [196,156,148]},\n",
        "        {\"label\": \"chair_back\",\"id\": 12,\"color\": [23,190,207]},\n",
        "        {\"label\": \"chair_seat\",\"id\": 13,\"color\": [186,85,211]},\n",
        "        {\"label\": \"chair_leg\",\"id\": 14,\"color\": [247,182,210]},\n",
        "        {\"label\": \"chair_arm\",\"id\": 15,\"color\": [66,188,102]},\n",
        "        {\"label\": \"earphone_earphone\",\"id\": 16,\"color\": [219,219,141]},\n",
        "        {\"label\": \"earphone_headband\",\"id\": 17,\"color\": [140,57,197]},\n",
        "        {\"label\": \"earphone_microphone\",\"id\": 18,\"color\": [202,185,52]},\n",
        "        {\"label\": \"guitar_head\",\"id\": 19,\"color\": [213,92,176]},\n",
        "        {\"label\": \"guitar_neck\",\"id\": 20,\"color\": [200,54,131]},\n",
        "        {\"label\": \"guitar_body\",\"id\": 21,\"color\": [92,193,61]},\n",
        "        {\"label\": \"knife_blade\",\"id\": 22,\"color\": [78,71,183]},\n",
        "        {\"label\": \"knife_handle\",\"id\": 23,\"color\": [172,114,82]},\n",
        "        {\"label\": \"lamp_base\",\"id\": 24,\"color\": [255,127,14]},\n",
        "        {\"label\": \"lamp_shape\",\"id\": 25,\"color\": [91,163,138]},\n",
        "        {\"label\": \"lamp_ceiling\",\"id\": 26,\"color\": [153,98,156]},\n",
        "        {\"label\": \"lamp_tube\",\"id\": 27,\"color\": [140,153,101]},\n",
        "        {\"label\": \"laptop_keyboard\",\"id\": 28,\"color\": [158,218,229]},\n",
        "        {\"label\": \"laptop_screen\",\"id\": 29,\"color\": [100,125,154]},\n",
        "        {\"label\": \"motorbike_gastank\",\"id\": 30,\"color\": [178,127,135]},\n",
        "        {\"label\": \"motorbike_seat\",\"id\": 31,\"color\": [120,185,128]},\n",
        "        {\"label\": \"motorbike_wheel\",\"id\": 32,\"color\": [146,111,194]},\n",
        "        {\"label\": \"motorbike_handle\",\"id\": 33,\"color\": [44,160,44]},\n",
        "        {\"label\": \"motorbike_light\",\"id\": 34,\"color\": [112,128,144]},\n",
        "        {\"label\": \"motorbike_body\",\"id\": 35,\"color\": [96,207,209]},\n",
        "        {\"label\": \"mug_handle\",\"id\": 36,\"color\": [227,119,194]},\n",
        "        {\"label\": \"mug_body\",\"id\": 37,\"color\": [51,176,203]},\n",
        "        {\"label\": \"pistol_barrel\",\"id\": 38,\"color\": [94,106,211]},\n",
        "        {\"label\": \"pistol_handle\",\"id\": 39,\"color\": [82,84,163]},\n",
        "        {\"label\": \"pistol_trigger\",\"id\": 40,\"color\": [100,85,144]},\n",
        "        {\"label\": \"rocket_body\",\"id\": 41,\"color\": [255,127,80]},\n",
        "        {\"label\": \"rocket_fin\",\"id\": 42,\"color\": [0,100,0]},\n",
        "        {\"label\": \"rocket_nose\",\"id\": 43,\"color\": [173,255,47]},\n",
        "        {\"label\": \"skateboard_wheel\",\"id\": 44,\"color\": [64,224,208]},\n",
        "        {\"label\": \"skateboard_deck\",\"id\": 45,\"color\": [0,255,255]},\n",
        "        {\"label\": \"skateboard_bearing\",\"id\": 46,\"color\": [25,25,112]},\n",
        "        {\"label\": \"table_top\",\"id\": 47,\"color\": [178,76,76]},\n",
        "        {\"label\": \"table_leg\",\"id\": 48,\"color\": [255,0,255]},\n",
        "        {\"label\": \"table_drawer\",\"id\": 49,\"color\": [152,223,138]}\n",
        "]\n",
        "\n",
        "id2color = {}\n",
        "for ix in meta_colors:\n",
        "    id2color[ix[\"id\"]] = ix[\"color\"]\n",
        "\n",
        "print(id2color)"
      ],
      "metadata": {
        "colab": {
          "base_uri": "https://localhost:8080/"
        },
        "id": "4ZnxvYkXILfn",
        "outputId": "aa153d4a-807e-4d27-9305-f51203340076"
      },
      "execution_count": 7,
      "outputs": [
        {
          "output_type": "stream",
          "name": "stdout",
          "text": [
            "{0: [152, 223, 138], 1: [174, 199, 232], 2: [255, 105, 180], 3: [31, 119, 180], 4: [255, 187, 120], 5: [188, 189, 34], 6: [140, 86, 75], 7: [255, 152, 150], 8: [214, 39, 40], 9: [197, 176, 213], 10: [148, 103, 189], 11: [196, 156, 148], 12: [23, 190, 207], 13: [186, 85, 211], 14: [247, 182, 210], 15: [66, 188, 102], 16: [219, 219, 141], 17: [140, 57, 197], 18: [202, 185, 52], 19: [213, 92, 176], 20: [200, 54, 131], 21: [92, 193, 61], 22: [78, 71, 183], 23: [172, 114, 82], 24: [255, 127, 14], 25: [91, 163, 138], 26: [153, 98, 156], 27: [140, 153, 101], 28: [158, 218, 229], 29: [100, 125, 154], 30: [178, 127, 135], 31: [120, 185, 128], 32: [146, 111, 194], 33: [44, 160, 44], 34: [112, 128, 144], 35: [96, 207, 209], 36: [227, 119, 194], 37: [51, 176, 203], 38: [94, 106, 211], 39: [82, 84, 163], 40: [100, 85, 144], 41: [255, 127, 80], 42: [0, 100, 0], 43: [173, 255, 47], 44: [64, 224, 208], 45: [0, 255, 255], 46: [25, 25, 112], 47: [178, 76, 76], 48: [255, 0, 255], 49: [152, 223, 138]}\n"
          ]
        }
      ]
    },
    {
      "cell_type": "markdown",
      "source": [
        "## Data Explore"
      ],
      "metadata": {
        "id": "D_xBmCqkGete"
      }
    },
    {
      "cell_type": "code",
      "source": [
        "def visualize_pc(points, color=False, distance=False):\n",
        "    norm = mpl.colors.Normalize(vmin=0, vmax=1.5)\n",
        "    cmap = cm.hsv\n",
        "    dist = np.sqrt(np.sum((points - points.mean())**2, 1))\n",
        "    m = cm.ScalarMappable(norm=norm, cmap=cmap)\n",
        "    cols = m.to_rgba(dist)\n",
        "\n",
        "    ipv.figure()\n",
        "    if isinstance(color, np.ndarray):\n",
        "        ipv.scatter(points[:, 0], points[:, 1], points[:, 2], marker='sphere', color=color)\n",
        "    elif distance==True:\n",
        "        ipv.scatter(points[:, 0], points[:, 1], points[:, 2], marker='sphere', color=cols)\n",
        "    else:\n",
        "        ipv.scatter(points[:, 0], points[:, 1], points[:, 2], marker='sphere', color='blue')\n",
        "    ipv.show()"
      ],
      "metadata": {
        "id": "A339HvHfKC9P"
      },
      "execution_count": 8,
      "outputs": []
    },
    {
      "cell_type": "code",
      "source": [
        "label = train_dataset[0].y.data.numpy()\n",
        "points = train_dataset[0].pos.data.numpy()\n",
        "\n",
        "colors = np.ones((label.shape[0], 4))\n",
        "colors[:, :3] = np.array([id2color[cx] for cx in label])/255.0\n"
      ],
      "metadata": {
        "id": "nKmNBKTuGg3A"
      },
      "execution_count": 9,
      "outputs": []
    },
    {
      "cell_type": "code",
      "source": [
        "colors.shape"
      ],
      "metadata": {
        "colab": {
          "base_uri": "https://localhost:8080/"
        },
        "id": "36DB5s3MKbDf",
        "outputId": "e0e34290-cbfb-4b89-af30-0d892ecd67cc"
      },
      "execution_count": 10,
      "outputs": [
        {
          "output_type": "execute_result",
          "data": {
            "text/plain": [
              "(2518, 4)"
            ]
          },
          "metadata": {},
          "execution_count": 10
        }
      ]
    },
    {
      "cell_type": "code",
      "source": [
        "visualize_pc(points, colors)"
      ],
      "metadata": {
        "colab": {
          "base_uri": "https://localhost:8080/",
          "height": 542,
          "referenced_widgets": [
            "ffa2b686315d45a09a50c43fa492b0b8",
            "702c615210d54d3a84cc9a126a95e360",
            "e4dee926b58a49458812f95f9377a6e1",
            "5203497631fc4a35b7a5bc8c2532e0e9",
            "850b43ff7a71474b9db3578af2c836f9",
            "0d5354263f1245e5af49fedc3524e591",
            "d49b39e68fba417aab70da0433b5edd8",
            "3ab52607827745b9acb5a6499c41ca9a",
            "3170c1fc7c70434e9234b1b136207a73"
          ]
        },
        "id": "cRHtOzusGg0J",
        "outputId": "4a206fea-e9c0-4820-e248-6db4aeb6c629"
      },
      "execution_count": 11,
      "outputs": [
        {
          "output_type": "display_data",
          "data": {
            "text/plain": [
              "VBox(children=(Figure(camera=PerspectiveCamera(fov=46.0, position=(0.0, 0.0, 2.0), projectionMatrix=(1.0, 0.0,…"
            ],
            "application/vnd.jupyter.widget-view+json": {
              "version_major": 2,
              "version_minor": 0,
              "model_id": "ffa2b686315d45a09a50c43fa492b0b8"
            }
          },
          "metadata": {
            "application/vnd.jupyter.widget-view+json": {
              "colab": {
                "custom_widget_manager": {
                  "url": "https://ssl.gstatic.com/colaboratory-static/widgets/colab-cdn-widget-manager/a8874ba6619b6106/manager.min.js"
                }
              }
            }
          }
        }
      ]
    },
    {
      "cell_type": "code",
      "source": [
        ""
      ],
      "metadata": {
        "id": "Nk7VLEHYGgx4"
      },
      "execution_count": 11,
      "outputs": []
    },
    {
      "cell_type": "markdown",
      "source": [
        "# Net"
      ],
      "metadata": {
        "id": "sE2TXJGwFsxi"
      }
    },
    {
      "cell_type": "code",
      "source": [
        "class Net(torch.nn.Module):\n",
        "    def __init__(self, out_channels, k=30, aggr='max'):\n",
        "        super().__init__()\n",
        "\n",
        "        self.conv1 = DynamicEdgeConv(MLP([2 * 6, 64, 64]), k, aggr)\n",
        "        self.conv2 = DynamicEdgeConv(MLP([2 * 64, 64, 64]), k, aggr)\n",
        "        self.conv3 = DynamicEdgeConv(MLP([2 * 64, 64, 64]), k, aggr)\n",
        "\n",
        "        self.mlp = MLP([3 * 64, 1024, 256, 128, out_channels], dropout=0.5,\n",
        "                       batch_norm=False)\n",
        "\n",
        "    def forward(self, data):\n",
        "        x, pos, batch = data.x, data.pos, data.batch\n",
        "        x0 = torch.cat([x, pos], dim=-1)\n",
        "        x1 = self.conv1(x0, batch)\n",
        "        x2 = self.conv2(x1, batch)\n",
        "        x3 = self.conv3(x2, batch)\n",
        "        out = self.mlp(torch.cat([x1, x2, x3], dim=1))\n",
        "        return F.log_softmax(out, dim=1)"
      ],
      "metadata": {
        "id": "MnkTf4--Fsbr"
      },
      "execution_count": 12,
      "outputs": []
    },
    {
      "cell_type": "code",
      "source": [
        "device = torch.device('cuda' if torch.cuda.is_available() else 'cpu')\n",
        "model = Net(train_dataset.num_classes, k=30).to(device)\n",
        "optimizer = torch.optim.Adam(model.parameters(), lr=0.001)\n",
        "scheduler = torch.optim.lr_scheduler.StepLR(optimizer, step_size=20, gamma=0.8)"
      ],
      "metadata": {
        "id": "r0AsUxmZF4ex"
      },
      "execution_count": null,
      "outputs": []
    },
    {
      "cell_type": "code",
      "source": [
        "def train():\n",
        "    model.train()\n",
        "\n",
        "    total_loss = correct_nodes = total_nodes = 0\n",
        "    for i, data in enumerate(train_loader):\n",
        "        data = data.to(device)\n",
        "        optimizer.zero_grad()\n",
        "        out = model(data)\n",
        "        loss = F.nll_loss(out, data.y)\n",
        "        loss.backward()\n",
        "        optimizer.step()\n",
        "        total_loss += loss.item()\n",
        "        correct_nodes += out.argmax(dim=1).eq(data.y).sum().item()\n",
        "        total_nodes += data.num_nodes\n",
        "\n",
        "        if (i + 1) % 10 == 0:\n",
        "            print(f'[{i+1}/{len(train_loader)}] Loss: {total_loss / 10:.4f} '\n",
        "                  f'Train Acc: {correct_nodes / total_nodes:.4f}')\n",
        "            total_loss = correct_nodes = total_nodes = 0"
      ],
      "metadata": {
        "id": "pHEwssijF8h6"
      },
      "execution_count": null,
      "outputs": []
    },
    {
      "cell_type": "code",
      "source": [
        "@torch.no_grad()\n",
        "def test(loader):\n",
        "    model.eval()\n",
        "\n",
        "    ious, categories = [], []\n",
        "    y_map = torch.empty(loader.dataset.num_classes, device=device).long()\n",
        "    for data in loader:\n",
        "        data = data.to(device)\n",
        "        outs = model(data)\n",
        "\n",
        "        sizes = (data.ptr[1:] - data.ptr[:-1]).tolist()\n",
        "        for out, y, category in zip(outs.split(sizes), data.y.split(sizes),\n",
        "                                    data.category.tolist()):\n",
        "            category = list(ShapeNet.seg_classes.keys())[category]\n",
        "            part = ShapeNet.seg_classes[category]\n",
        "            part = torch.tensor(part, device=device)\n",
        "\n",
        "            y_map[part] = torch.arange(part.size(0), device=device)\n",
        "\n",
        "            iou = jaccard_index(out[:, part].argmax(dim=-1), y_map[y],\n",
        "                                num_classes=part.size(0), absent_score=1.0)\n",
        "            ious.append(iou)\n",
        "\n",
        "        categories.append(data.category)\n",
        "\n",
        "    iou = torch.tensor(ious, device=device)\n",
        "    category = torch.cat(categories, dim=0)\n",
        "\n",
        "    mean_iou = scatter(iou, category, reduce='mean')  # Per-category IoU.\n",
        "    return float(mean_iou.mean())  # Global IoU."
      ],
      "metadata": {
        "id": "9mi1RWNeF9gh"
      },
      "execution_count": null,
      "outputs": []
    },
    {
      "cell_type": "code",
      "source": [
        "for epoch in range(1, 31):\n",
        "    train()\n",
        "    iou = test(test_loader)\n",
        "    print(f'Epoch: {epoch:02d}, Test IoU: {iou:.4f}')"
      ],
      "metadata": {
        "colab": {
          "base_uri": "https://localhost:8080/",
          "height": 591
        },
        "id": "QquGc725F9dw",
        "outputId": "061ff042-4f8a-48ee-db65-33b41e4711eb"
      },
      "execution_count": null,
      "outputs": [
        {
          "output_type": "stream",
          "name": "stderr",
          "text": [
            "/usr/local/lib/python3.7/dist-packages/torch/utils/data/dataloader.py:490: UserWarning: This DataLoader will create 6 worker processes in total. Our suggested max number of worker in current system is 2, which is smaller than what this DataLoader is going to create. Please be aware that excessive worker creation might get DataLoader running slow or even freeze, lower the worker number to avoid potential slowness/freeze if necessary.\n",
            "  cpuset_checked))\n"
          ]
        },
        {
          "output_type": "stream",
          "name": "stdout",
          "text": [
            "[10/235] Loss: 0.4314 Train Acc: 0.8374\n",
            "[20/235] Loss: 0.4237 Train Acc: 0.8438\n",
            "[30/235] Loss: 0.3970 Train Acc: 0.8540\n",
            "[40/235] Loss: 0.3767 Train Acc: 0.8679\n",
            "[50/235] Loss: 0.3979 Train Acc: 0.8598\n",
            "[60/235] Loss: 0.3990 Train Acc: 0.8667\n",
            "[70/235] Loss: 0.4038 Train Acc: 0.8669\n",
            "[80/235] Loss: 0.3575 Train Acc: 0.8749\n"
          ]
        },
        {
          "output_type": "error",
          "ename": "KeyboardInterrupt",
          "evalue": "ignored",
          "traceback": [
            "\u001b[0;31m---------------------------------------------------------------------------\u001b[0m",
            "\u001b[0;31mKeyboardInterrupt\u001b[0m                         Traceback (most recent call last)",
            "\u001b[0;32m<ipython-input-59-21cf9ee8cb3b>\u001b[0m in \u001b[0;36m<module>\u001b[0;34m()\u001b[0m\n\u001b[1;32m      1\u001b[0m \u001b[0;32mfor\u001b[0m \u001b[0mepoch\u001b[0m \u001b[0;32min\u001b[0m \u001b[0mrange\u001b[0m\u001b[0;34m(\u001b[0m\u001b[0;36m1\u001b[0m\u001b[0;34m,\u001b[0m \u001b[0;36m31\u001b[0m\u001b[0;34m)\u001b[0m\u001b[0;34m:\u001b[0m\u001b[0;34m\u001b[0m\u001b[0;34m\u001b[0m\u001b[0m\n\u001b[0;32m----> 2\u001b[0;31m     \u001b[0mtrain\u001b[0m\u001b[0;34m(\u001b[0m\u001b[0;34m)\u001b[0m\u001b[0;34m\u001b[0m\u001b[0;34m\u001b[0m\u001b[0m\n\u001b[0m\u001b[1;32m      3\u001b[0m     \u001b[0miou\u001b[0m \u001b[0;34m=\u001b[0m \u001b[0mtest\u001b[0m\u001b[0;34m(\u001b[0m\u001b[0mtest_loader\u001b[0m\u001b[0;34m)\u001b[0m\u001b[0;34m\u001b[0m\u001b[0;34m\u001b[0m\u001b[0m\n\u001b[1;32m      4\u001b[0m     \u001b[0mprint\u001b[0m\u001b[0;34m(\u001b[0m\u001b[0;34mf'Epoch: {epoch:02d}, Test IoU: {iou:.4f}'\u001b[0m\u001b[0;34m)\u001b[0m\u001b[0;34m\u001b[0m\u001b[0;34m\u001b[0m\u001b[0m\n",
            "\u001b[0;32m<ipython-input-55-626a1baf8b00>\u001b[0m in \u001b[0;36mtrain\u001b[0;34m()\u001b[0m\n\u001b[1;32m      8\u001b[0m         \u001b[0mout\u001b[0m \u001b[0;34m=\u001b[0m \u001b[0mmodel\u001b[0m\u001b[0;34m(\u001b[0m\u001b[0mdata\u001b[0m\u001b[0;34m)\u001b[0m\u001b[0;34m\u001b[0m\u001b[0;34m\u001b[0m\u001b[0m\n\u001b[1;32m      9\u001b[0m         \u001b[0mloss\u001b[0m \u001b[0;34m=\u001b[0m \u001b[0mF\u001b[0m\u001b[0;34m.\u001b[0m\u001b[0mnll_loss\u001b[0m\u001b[0;34m(\u001b[0m\u001b[0mout\u001b[0m\u001b[0;34m,\u001b[0m \u001b[0mdata\u001b[0m\u001b[0;34m.\u001b[0m\u001b[0my\u001b[0m\u001b[0;34m)\u001b[0m\u001b[0;34m\u001b[0m\u001b[0;34m\u001b[0m\u001b[0m\n\u001b[0;32m---> 10\u001b[0;31m         \u001b[0mloss\u001b[0m\u001b[0;34m.\u001b[0m\u001b[0mbackward\u001b[0m\u001b[0;34m(\u001b[0m\u001b[0;34m)\u001b[0m\u001b[0;34m\u001b[0m\u001b[0;34m\u001b[0m\u001b[0m\n\u001b[0m\u001b[1;32m     11\u001b[0m         \u001b[0moptimizer\u001b[0m\u001b[0;34m.\u001b[0m\u001b[0mstep\u001b[0m\u001b[0;34m(\u001b[0m\u001b[0;34m)\u001b[0m\u001b[0;34m\u001b[0m\u001b[0;34m\u001b[0m\u001b[0m\n\u001b[1;32m     12\u001b[0m         \u001b[0mtotal_loss\u001b[0m \u001b[0;34m+=\u001b[0m \u001b[0mloss\u001b[0m\u001b[0;34m.\u001b[0m\u001b[0mitem\u001b[0m\u001b[0;34m(\u001b[0m\u001b[0;34m)\u001b[0m\u001b[0;34m\u001b[0m\u001b[0;34m\u001b[0m\u001b[0m\n",
            "\u001b[0;32m/usr/local/lib/python3.7/dist-packages/torch/_tensor.py\u001b[0m in \u001b[0;36mbackward\u001b[0;34m(self, gradient, retain_graph, create_graph, inputs)\u001b[0m\n\u001b[1;32m    361\u001b[0m                 \u001b[0mcreate_graph\u001b[0m\u001b[0;34m=\u001b[0m\u001b[0mcreate_graph\u001b[0m\u001b[0;34m,\u001b[0m\u001b[0;34m\u001b[0m\u001b[0;34m\u001b[0m\u001b[0m\n\u001b[1;32m    362\u001b[0m                 inputs=inputs)\n\u001b[0;32m--> 363\u001b[0;31m         \u001b[0mtorch\u001b[0m\u001b[0;34m.\u001b[0m\u001b[0mautograd\u001b[0m\u001b[0;34m.\u001b[0m\u001b[0mbackward\u001b[0m\u001b[0;34m(\u001b[0m\u001b[0mself\u001b[0m\u001b[0;34m,\u001b[0m \u001b[0mgradient\u001b[0m\u001b[0;34m,\u001b[0m \u001b[0mretain_graph\u001b[0m\u001b[0;34m,\u001b[0m \u001b[0mcreate_graph\u001b[0m\u001b[0;34m,\u001b[0m \u001b[0minputs\u001b[0m\u001b[0;34m=\u001b[0m\u001b[0minputs\u001b[0m\u001b[0;34m)\u001b[0m\u001b[0;34m\u001b[0m\u001b[0;34m\u001b[0m\u001b[0m\n\u001b[0m\u001b[1;32m    364\u001b[0m \u001b[0;34m\u001b[0m\u001b[0m\n\u001b[1;32m    365\u001b[0m     \u001b[0;32mdef\u001b[0m \u001b[0mregister_hook\u001b[0m\u001b[0;34m(\u001b[0m\u001b[0mself\u001b[0m\u001b[0;34m,\u001b[0m \u001b[0mhook\u001b[0m\u001b[0;34m)\u001b[0m\u001b[0;34m:\u001b[0m\u001b[0;34m\u001b[0m\u001b[0;34m\u001b[0m\u001b[0m\n",
            "\u001b[0;32m/usr/local/lib/python3.7/dist-packages/torch/autograd/__init__.py\u001b[0m in \u001b[0;36mbackward\u001b[0;34m(tensors, grad_tensors, retain_graph, create_graph, grad_variables, inputs)\u001b[0m\n\u001b[1;32m    173\u001b[0m     Variable._execution_engine.run_backward(  # Calls into the C++ engine to run the backward pass\n\u001b[1;32m    174\u001b[0m         \u001b[0mtensors\u001b[0m\u001b[0;34m,\u001b[0m \u001b[0mgrad_tensors_\u001b[0m\u001b[0;34m,\u001b[0m \u001b[0mretain_graph\u001b[0m\u001b[0;34m,\u001b[0m \u001b[0mcreate_graph\u001b[0m\u001b[0;34m,\u001b[0m \u001b[0minputs\u001b[0m\u001b[0;34m,\u001b[0m\u001b[0;34m\u001b[0m\u001b[0;34m\u001b[0m\u001b[0m\n\u001b[0;32m--> 175\u001b[0;31m         allow_unreachable=True, accumulate_grad=True)  # Calls into the C++ engine to run the backward pass\n\u001b[0m\u001b[1;32m    176\u001b[0m \u001b[0;34m\u001b[0m\u001b[0m\n\u001b[1;32m    177\u001b[0m def grad(\n",
            "\u001b[0;31mKeyboardInterrupt\u001b[0m: "
          ]
        }
      ]
    },
    {
      "cell_type": "code",
      "source": [
        "torch.save(model, os.path.join(data_root, \"trained_model_partseg_10epochs.pth\"))"
      ],
      "metadata": {
        "id": "ofFjl5N1GSfK"
      },
      "execution_count": null,
      "outputs": []
    },
    {
      "cell_type": "code",
      "source": [
        ""
      ],
      "metadata": {
        "id": "y8sMTxsEF9bR"
      },
      "execution_count": null,
      "outputs": []
    },
    {
      "cell_type": "code",
      "source": [
        ""
      ],
      "metadata": {
        "id": "mzMbeiTFF8fS"
      },
      "execution_count": null,
      "outputs": []
    }
  ]
}