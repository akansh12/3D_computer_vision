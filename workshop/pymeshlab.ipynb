{
  "cells": [
    {
      "cell_type": "markdown",
      "metadata": {
        "id": "view-in-github",
        "colab_type": "text"
      },
      "source": [
        "<a href=\"https://colab.research.google.com/github/akansh12/3D_computer_vision/blob/main/workshop/pymeshlab.ipynb\" target=\"_parent\"><img src=\"https://colab.research.google.com/assets/colab-badge.svg\" alt=\"Open In Colab\"/></a>"
      ]
    },
    {
      "cell_type": "markdown",
      "source": [
        "[**PyMeshlab**](https://pymeshlab.readthedocs.io/en/latest/)"
      ],
      "metadata": {
        "id": "T1IGHPlPZBm3"
      }
    },
    {
      "cell_type": "code",
      "source": [
        "!pip install embree\n",
        "!pip install rtree\n",
        "!pip install trimesh\n",
        "!pip install pymeshlab\n",
        "!pip install shapely"
      ],
      "metadata": {
        "id": "0-xWu33OUWuz"
      },
      "execution_count": null,
      "outputs": []
    },
    {
      "cell_type": "code",
      "execution_count": null,
      "metadata": {
        "id": "Djs0P8X6UPtS"
      },
      "outputs": [],
      "source": [
        "import pymeshlab\n",
        "import trimesh\n",
        "import os\n",
        "import numpy as np"
      ]
    },
    {
      "cell_type": "markdown",
      "source": [
        "Download the required data..."
      ],
      "metadata": {
        "id": "UbB4bzgCYjOq"
      }
    },
    {
      "cell_type": "code",
      "source": [
        "!gdown 1QzgpTP4T9YT7aZT9M0aBsBHS0e0kafhJ"
      ],
      "metadata": {
        "id": "S9jegKDzUl7V"
      },
      "execution_count": null,
      "outputs": []
    },
    {
      "cell_type": "markdown",
      "source": [
        "Extract the files..."
      ],
      "metadata": {
        "id": "RDB5ouUqYpXx"
      }
    },
    {
      "cell_type": "code",
      "source": [
        "!unzip meshlab_data.zip"
      ],
      "metadata": {
        "id": "QsI0YR8IUqJh"
      },
      "execution_count": null,
      "outputs": []
    },
    {
      "cell_type": "markdown",
      "metadata": {
        "id": "s0FWJv9nUPtV"
      },
      "source": [
        "#### Trimesh based  visualizer\n",
        "*Ignore this cell just like your crush ignores you.*"
      ]
    },
    {
      "cell_type": "code",
      "execution_count": null,
      "metadata": {
        "id": "XATX6MfqUPtW"
      },
      "outputs": [],
      "source": [
        "def visualizer(root, mesh_name):\n",
        "    \n",
        "    if 'list' in str(type(mesh_name)):\n",
        "        scene = trimesh.scene.Scene()\n",
        "        for name in mesh_name:\n",
        "            mesh_path = os.path.join(root,name)\n",
        "            mesh = trimesh.load(mesh_path, process=False)\n",
        "            scene.add_geometry(mesh)\n",
        "        return scene\n",
        "    \n",
        "    mesh_path = os.path.join(root,mesh_name)\n",
        "    mesh = trimesh.load(mesh_path, process=False)\n",
        "    scene = trimesh.scene.Scene()\n",
        "    scene.add_geometry(mesh)\n",
        "    return scene"
      ]
    },
    {
      "cell_type": "markdown",
      "metadata": {
        "id": "T0SjnDpqUPtX"
      },
      "source": [
        "##### Set directory paths..."
      ]
    },
    {
      "cell_type": "code",
      "execution_count": null,
      "metadata": {
        "id": "Pb_Jk-yBUPtX"
      },
      "outputs": [],
      "source": [
        "src = '/content/meshlab_data' + '/'\n",
        "dest = '/content/meshlab_data/out' + '/'\n",
        "os.makedirs(dest, exist_ok=True)"
      ]
    },
    {
      "cell_type": "markdown",
      "metadata": {
        "id": "kUf0PePlUPtY"
      },
      "source": [
        "In PyMeshLab, every MeshSet object stores internally a filter script, corresponding to a certain filter from the Meshlab.\n",
        "\n"
      ]
    },
    {
      "cell_type": "markdown",
      "metadata": {
        "id": "qSOH9E85UPtY"
      },
      "source": [
        "#### Initialize MeshSet( ) object"
      ]
    },
    {
      "cell_type": "code",
      "execution_count": null,
      "metadata": {
        "id": "p6WR1yy8UPtZ"
      },
      "outputs": [],
      "source": [
        "ms = pymeshlab.MeshSet()"
      ]
    },
    {
      "cell_type": "markdown",
      "metadata": {
        "id": "JIc4qq5AUPta"
      },
      "source": [
        "#### Loading and saving"
      ]
    },
    {
      "cell_type": "code",
      "execution_count": null,
      "metadata": {
        "id": "rIbl4CDAUPta"
      },
      "outputs": [],
      "source": [
        "ms.load_new_mesh(os.path.join(src, 'bunny/mesh/bunny_no_texture.obj'))\n",
        "ms.save_current_mesh(os.path.join(dest, 'bunny.obj'))\n",
        "\n",
        "#visualize\n",
        "scene = visualizer(dest,'bunny.obj')\n",
        "scene.show()"
      ]
    },
    {
      "cell_type": "markdown",
      "metadata": {
        "id": "opZrW5OJUPtb"
      },
      "source": [
        "#### Applying a filter script\n",
        "\n",
        "[*List of filters*](https://pymeshlab.readthedocs.io/en/latest/filter_list.html)"
      ]
    },
    {
      "cell_type": "code",
      "execution_count": null,
      "metadata": {
        "id": "ZN8BFnpNUPtb"
      },
      "outputs": [],
      "source": [
        "ms.meshing_decimation_quadric_edge_collapse(targetfacenum=500)\n",
        "ms.save_current_mesh(os.path.join(dest, 'bunny_decim.obj'))\n",
        "\n",
        "#visualize\n",
        "scene = visualizer(dest,'bunny_decim.obj')\n",
        "scene.show()"
      ]
    },
    {
      "cell_type": "markdown",
      "metadata": {
        "id": "shCaDJngUPtb"
      },
      "source": [
        "#### Clear the MeshSet"
      ]
    },
    {
      "cell_type": "markdown",
      "source": [
        "*Don't ignore this, this is important.*"
      ],
      "metadata": {
        "id": "ZJ-OOFYrjfrz"
      }
    },
    {
      "cell_type": "code",
      "execution_count": null,
      "metadata": {
        "id": "bvkFvWmdUPtc"
      },
      "outputs": [],
      "source": [
        "ms.clear()"
      ]
    },
    {
      "cell_type": "markdown",
      "metadata": {
        "id": "hi11n4Y5UPtc"
      },
      "source": [
        "#### Argument Class"
      ]
    },
    {
      "cell_type": "code",
      "execution_count": null,
      "metadata": {
        "id": "Z3bZj6EjUPtc"
      },
      "outputs": [],
      "source": [
        "ms.load_new_mesh(os.path.join(src, 'bunny/mesh/bunny_no_texture.obj'))\n",
        "color = pymeshlab.Color(200,200,0)\n",
        "ms.set_color_per_vertex(color1=color)\n",
        "ms.save_current_mesh(os.path.join(dest, 'bunny_vc.obj'))\n",
        "ms.clear()\n",
        "\n",
        "#visualize\n",
        "scene = visualizer(dest,'bunny_vc.obj')\n",
        "scene.show()"
      ]
    },
    {
      "cell_type": "markdown",
      "metadata": {
        "id": "lRWSZYrGUPtd"
      },
      "source": [
        "#### Applying multiple filter scripts"
      ]
    },
    {
      "cell_type": "code",
      "execution_count": null,
      "metadata": {
        "id": "EAE3S3LlUPtd"
      },
      "outputs": [],
      "source": [
        "ms.load_new_mesh(os.path.join(src, 'bunny/mesh/bunny_no_texture.obj'))\n",
        "ms.compute_color_random_per_face()\n",
        "ms.save_current_mesh(os.path.join(dest, 'bunny_random.obj'))\n",
        "condition = 'fr>150'\n",
        "ms.compute_selection_by_condition_per_face(condselect=condition)\n",
        "ms.meshing_remove_selected_vertices_and_faces()\n",
        "ms.save_current_mesh(os.path.join(dest, 'bunny_final.obj'))\n",
        "ms.clear()\n",
        "\n",
        "#visualize\n",
        "scene = visualizer(dest,'bunny_final.obj')\n",
        "scene.show()"
      ]
    },
    {
      "cell_type": "markdown",
      "metadata": {
        "id": "tNXk_WjPUPtd"
      },
      "source": [
        "#### Handling multiple meshes"
      ]
    },
    {
      "cell_type": "code",
      "execution_count": null,
      "metadata": {
        "id": "-qf-m3SVUPtd"
      },
      "outputs": [],
      "source": [
        "#visualize\n",
        "scene = visualizer(src,'bunny_multiple/full.obj')\n",
        "scene.show()"
      ]
    },
    {
      "cell_type": "code",
      "execution_count": null,
      "metadata": {
        "id": "G7VSms-5UPte"
      },
      "outputs": [],
      "source": [
        "#visualize\n",
        "scene = visualizer(src,'bunny_multiple/half.obj')\n",
        "scene.show()"
      ]
    },
    {
      "cell_type": "code",
      "execution_count": null,
      "metadata": {
        "id": "em8aVwjZUPte"
      },
      "outputs": [],
      "source": [
        "# Getting current mesh-id\n",
        "ms.load_new_mesh(os.path.join(src, 'bunny_multiple/half.obj'))\n",
        "id = ms.current_mesh_id()\n",
        "ms.clear()\n",
        "\n",
        "print(id, type(id))"
      ]
    },
    {
      "cell_type": "code",
      "execution_count": null,
      "metadata": {
        "id": "6mCARoXGUPte"
      },
      "outputs": [],
      "source": [
        "# without ms.clear()\n",
        "ms.load_new_mesh(os.path.join(src, 'bunny_multiple/half.obj'))\n",
        "id = ms.current_mesh_id()\n",
        "\n",
        "print(id)"
      ]
    },
    {
      "cell_type": "code",
      "execution_count": null,
      "metadata": {
        "id": "vkmUZT70UPtf"
      },
      "outputs": [],
      "source": [
        "# clear the MeshSet\n",
        "ms.clear()"
      ]
    },
    {
      "cell_type": "code",
      "execution_count": null,
      "metadata": {
        "id": "-qeoH2dkUPtf"
      },
      "outputs": [],
      "source": [
        "# COLOR TRANSFER\n",
        "\n",
        "# load the source mesh\n",
        "ms.load_new_mesh(os.path.join(src, 'bunny_multiple/half.obj'))\n",
        "# get source mesh-id\n",
        "source_id = ms.current_mesh_id()\n",
        "\n",
        "# load target mesh\n",
        "ms.load_new_mesh(os.path.join(src, 'bunny_multiple/full.obj'))\n",
        "# get target mesh-id\n",
        "target_id = ms.current_mesh_id()\n",
        "\n",
        "# make source mesh active\n",
        "ms.set_current_mesh(new_curr_id=source_id)\n",
        "\n",
        "# per vertex color function\n",
        "color = pymeshlab.Color(200,100,100)\n",
        "ms.set_color_per_vertex(color1=color)\n",
        "\n",
        "# vertex attribute transfer\n",
        "ms.transfer_attributes_per_vertex(sourcemesh=source_id, targetmesh=target_id, colortransfer=True)\n",
        "\n",
        "# make target mesh active\n",
        "ms.set_current_mesh(new_curr_id=target_id)\n",
        "\n",
        "# save the current mesh\n",
        "ms.save_current_mesh(os.path.join(dest, 'bunny_color_transfer.obj'))\n",
        "\n",
        "# clear the MeshSet\n",
        "ms.clear()\n",
        "\n",
        "#visualize\n",
        "scene = visualizer(dest,'bunny_color_transfer.obj')\n",
        "scene.show()"
      ]
    },
    {
      "cell_type": "markdown",
      "metadata": {
        "id": "4ecrmbCZUPtf"
      },
      "source": [
        "### Excercise"
      ]
    },
    {
      "cell_type": "markdown",
      "metadata": {
        "id": "_wlLMFOdUPtg"
      },
      "source": [
        "#### Poisson Surface Reconstruction"
      ]
    },
    {
      "cell_type": "markdown",
      "metadata": {
        "id": "36MjlTguUPtg"
      },
      "source": [
        "Load the 'bunny.obj' meshe and sample K points on it.\n",
        "<br />\n",
        "Run Poisson Surface Reconstruction on the sampled points.\n",
        "<br />\n",
        "<br />\n",
        "Filters name --> \"Poisson disk sampling\" & \"Poisson Surface Reconstruction\" <br />\n",
        "Pymeshlab Functions --> \"generate_sampling_poisson_disk\" & \"generate_surface_reconstruction_screened_poisson\""
      ]
    },
    {
      "cell_type": "code",
      "execution_count": null,
      "metadata": {
        "id": "OHYz8EvBUPtg"
      },
      "outputs": [],
      "source": [
        "# write code here ... load the mesh, sample K points, run PSR.\n",
        "\n",
        "\n",
        "\n",
        "\n",
        "\n",
        "# save the current mesh\n",
        "save_name = 'bunny_poisson.obj'\n",
        "ms.save_current_mesh(os.path.join(dest, save_name))\n",
        "\n",
        "# clear the MeshSet\n",
        "ms.clear()\n",
        "\n",
        "#visualize\n",
        "scene = visualizer(dest,[save_name])\n",
        "scene.show()"
      ]
    },
    {
      "cell_type": "markdown",
      "metadata": {
        "id": "BFx5H3EbUPth"
      },
      "source": [
        "##### Vertex Linear Morphing\n",
        "\n",
        "Morph '1.obj' to match 70% with '2.obj'\n",
        "<br />\n",
        "<br />\n",
        "Filter name --> \"Vertex Linear Morphing\" <br />\n",
        "Pymeshlab Function --> \"compute_coord_linear_morphing\"\n",
        "<br />\n",
        "<br />\n",
        "<br />\n",
        "<br />\n",
        "<br />\n",
        "<br />\n",
        "<br />\n",
        "<br />\n",
        "<br />\n",
        "<img src='https://the6track.com/wp-content/uploads/2017/10/Bestyoucandpoitmeme.jpg'>\n",
        "\n"
      ]
    },
    {
      "cell_type": "code",
      "execution_count": null,
      "metadata": {
        "id": "DOJrOQP9UPth"
      },
      "outputs": [],
      "source": [
        "#visualize 1.obj\n",
        "mesh_name_1 =  'smpl/1.obj'\n",
        "scene = visualizer(src, mesh_name_1)\n",
        "scene.show()"
      ]
    },
    {
      "cell_type": "code",
      "execution_count": null,
      "metadata": {
        "id": "UlQtX1X2UPth"
      },
      "outputs": [],
      "source": [
        "#visualize 2.obj\n",
        "mesh_name_2 =  'smpl/2.obj'\n",
        "scene = visualizer(src, mesh_name_2)\n",
        "scene.show()"
      ]
    },
    {
      "cell_type": "code",
      "execution_count": null,
      "metadata": {
        "id": "ig6kCSsoUPth"
      },
      "outputs": [],
      "source": [
        "# write your code here .... load the meshes, morph, save the morphed mesh and visualize.\n",
        "\n",
        "\n",
        "\n",
        "\n",
        "\n",
        "\n",
        "\n",
        "# save the current mesh\n",
        "ms.save_current_mesh(os.path.join(src, 'smpl/morphed.obj'))\n",
        "\n",
        "# clear the MeshSet\n",
        "ms.clear()\n",
        "\n",
        "#visualize\n",
        "scene = visualizer(src,['smpl/morphed.obj',mesh_name_2])\n",
        "scene.show()"
      ]
    },
    {
      "cell_type": "code",
      "execution_count": null,
      "metadata": {
        "id": "4KZrnKsOUPti"
      },
      "outputs": [],
      "source": [
        ""
      ]
    },
    {
      "cell_type": "code",
      "source": [
        ""
      ],
      "metadata": {
        "id": "xss0dfnTvD0K"
      },
      "execution_count": null,
      "outputs": []
    },
    {
      "cell_type": "code",
      "source": [
        ""
      ],
      "metadata": {
        "id": "w9WkcUPlvEWL"
      },
      "execution_count": null,
      "outputs": []
    }
  ],
  "metadata": {
    "kernelspec": {
      "display_name": "Python 3 (ipykernel)",
      "language": "python",
      "name": "python3"
    },
    "language_info": {
      "codemirror_mode": {
        "name": "ipython",
        "version": 3
      },
      "file_extension": ".py",
      "mimetype": "text/x-python",
      "name": "python",
      "nbconvert_exporter": "python",
      "pygments_lexer": "ipython3",
      "version": "3.8.13"
    },
    "colab": {
      "name": "pymeshlab.ipynb",
      "provenance": [],
      "collapsed_sections": [],
      "include_colab_link": true
    }
  },
  "nbformat": 4,
  "nbformat_minor": 0
}